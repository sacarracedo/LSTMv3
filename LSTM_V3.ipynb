{
 "cells": [
  {
   "cell_type": "markdown",
   "metadata": {},
   "source": [
    "Importación de librerías:"
   ]
  },
  {
   "cell_type": "code",
   "execution_count": 17,
   "metadata": {},
   "outputs": [
    {
     "name": "stdout",
     "output_type": "stream",
     "text": [
      "Bibliotecas importadas exitosamente\n"
     ]
    }
   ],
   "source": [
    "# Paso 1: Importar bibliotecas\n",
    "import numpy as np\n",
    "import pandas as pd\n",
    "from sklearn.preprocessing import MinMaxScaler, LabelEncoder\n",
    "from sklearn.model_selection import train_test_split\n",
    "import matplotlib.pyplot as plt\n",
    "from tensorflow.keras.layers import LSTM, Dense, Dropout, Input, ReLU\n",
    "from tensorflow.keras.models import Sequential\n",
    "import tensorflow.keras.backend as K \n",
    "\n",
    "\n",
    "# Confirmar que las bibliotecas se importaron correctamente\n",
    "print(\"Bibliotecas importadas exitosamente\")\n"
   ]
  },
  {
   "cell_type": "markdown",
   "metadata": {},
   "source": [
    "Cargar los datos:"
   ]
  },
  {
   "cell_type": "code",
   "execution_count": 2,
   "metadata": {},
   "outputs": [
    {
     "name": "stdout",
     "output_type": "stream",
     "text": [
      "    Año  Trimestre  Mes  Semana  Región del cliente  \\\n",
      "0  2024          3    9      36                   1   \n",
      "1  2024          3    9      36                   1   \n",
      "2  2024          3    9      36                   1   \n",
      "3  2024          3    9      36                   1   \n",
      "4  2024          3    9      36                   1   \n",
      "\n",
      "           Categoría del producto                       Código del producto  \\\n",
      "0  SNACKS                          300101247                     C00598       \n",
      "1  LIQUIDOS                        300912666                     C00598       \n",
      "2  SNACKS                          300914040                     C00598       \n",
      "3  SNACKS                          300914041                     C00598       \n",
      "4  INSUMOS OPERACIONALES           400700584                     C00598       \n",
      "\n",
      "  Demanda del producto  Precio del producto  \n",
      "0                    1              45289.0  \n",
      "1                    2               2952.0  \n",
      "2                    1              19152.0  \n",
      "3                    1              28882.0  \n",
      "4                    4               9600.0  \n"
     ]
    }
   ],
   "source": [
    "# Leer el archivo CSV y agrega encabezados\n",
    "columnas = [\"Año\",  \"Trimestre\", \"Mes\", \"Semana\",  \"Región del cliente\",\"Categoría del producto\",  \"Código del producto\", \n",
    "            \"Demanda del producto\", \"Precio del producto\"]\n",
    "\n",
    "datos = pd.read_csv('base_pura.csv', sep=';', names=columnas, low_memory=False)\n",
    "# Ver las primeras filas para asegurarnos de que se ha cargado correctamente\n",
    "print(datos.head())"
   ]
  },
  {
   "cell_type": "markdown",
   "metadata": {},
   "source": [
    "Revisar las variables y su tipo. Rellenar vacíos:"
   ]
  },
  {
   "cell_type": "code",
   "execution_count": 3,
   "metadata": {},
   "outputs": [
    {
     "name": "stdout",
     "output_type": "stream",
     "text": [
      "Valores nulos por columna:\n",
      "Año                       0\n",
      "Trimestre                 0\n",
      "Mes                       0\n",
      "Semana                    0\n",
      "Región del cliente        0\n",
      "Categoría del producto    0\n",
      "Código del producto       0\n",
      "Demanda del producto      3\n",
      "Precio del producto       0\n",
      "dtype: int64\n",
      "Valores nulos después de rellenar:\n",
      "Año                       0\n",
      "Trimestre                 0\n",
      "Mes                       0\n",
      "Semana                    0\n",
      "Región del cliente        0\n",
      "Categoría del producto    0\n",
      "Código del producto       0\n",
      "Demanda del producto      0\n",
      "Precio del producto       0\n",
      "dtype: int64\n",
      "    Año  Trimestre  Mes  Semana  Región del cliente  \\\n",
      "0  2024          3    9      36                   1   \n",
      "1  2024          3    9      36                   1   \n",
      "2  2024          3    9      36                   1   \n",
      "3  2024          3    9      36                   1   \n",
      "4  2024          3    9      36                   1   \n",
      "\n",
      "           Categoría del producto                       Código del producto  \\\n",
      "0  SNACKS                          300101247                     C00598       \n",
      "1  LIQUIDOS                        300912666                     C00598       \n",
      "2  SNACKS                          300914040                     C00598       \n",
      "3  SNACKS                          300914041                     C00598       \n",
      "4  INSUMOS OPERACIONALES           400700584                     C00598       \n",
      "\n",
      "   Demanda del producto  Precio del producto  \n",
      "0                   1.0              45289.0  \n",
      "1                   2.0               2952.0  \n",
      "2                   1.0              19152.0  \n",
      "3                   1.0              28882.0  \n",
      "4                   4.0               9600.0  \n"
     ]
    }
   ],
   "source": [
    "# Paso 2.5: Asegurar los tipos de datos, revisar datos faltantes y manejar los datos numéricos faltantes\n",
    "\n",
    "# 1) Asegurar que las columnas tengan el tipo de dato correcto\n",
    "# Convertir las columnas numéricas a su tipo adecuado\n",
    "datos['Demanda del producto'] = pd.to_numeric(datos['Demanda del producto'], errors='coerce')\n",
    "datos['Precio del producto'] = pd.to_numeric(datos['Precio del producto'], errors='coerce')\n",
    "\n",
    "# Convertir las columnas categóricas\n",
    "datos['Código del producto'] = datos['Código del producto'].astype(str)\n",
    "datos['Categoría del producto'] = datos['Categoría del producto'].astype(str)\n",
    "\n",
    "# 2) Revisar si hay datos faltantes\n",
    "# Mostrar el número de valores nulos por cada columna\n",
    "print(\"Valores nulos por columna:\")\n",
    "print(datos.isnull().sum())\n",
    "\n",
    "# 3) Manejar los valores faltantes en las columnas numéricas\n",
    "# Rellenar los valores faltantes en 'Demanda del producto' y 'Precio del producto' con 0\n",
    "datos['Demanda del producto'].fillna(0, inplace=True)\n",
    "datos['Precio del producto'].fillna(0, inplace=True)\n",
    "\n",
    "# Verificar que no haya valores faltantes después del reemplazo\n",
    "print(\"Valores nulos después de rellenar:\")\n",
    "print(datos.isnull().sum())\n",
    "\n",
    "# Reemplazar demandas negativas por 0\n",
    "datos['Demanda del producto'] = datos['Demanda del producto'].apply(lambda x: max(0, x))\n",
    "\n",
    "\n",
    "# Inspeccionar las primeras filas de nuevo para asegurarse de que todo esté en orden\n",
    "print(datos.head())\n"
   ]
  },
  {
   "cell_type": "markdown",
   "metadata": {},
   "source": [
    "Creamos un index de fecha"
   ]
  },
  {
   "cell_type": "code",
   "execution_count": 4,
   "metadata": {},
   "outputs": [
    {
     "name": "stdout",
     "output_type": "stream",
     "text": [
      "    Año  Semana      Fecha\n",
      "0  2024      36 2024-09-02\n",
      "1  2024      36 2024-09-02\n",
      "2  2024      36 2024-09-02\n",
      "3  2024      36 2024-09-02\n",
      "4  2024      36 2024-09-02\n"
     ]
    }
   ],
   "source": [
    "# Paso 2.25: Crear la columna 'Fecha' basada en 'Año' y 'Semana'\n",
    "\n",
    "# Asegurarnos de que las columnas 'Año' y 'Semana' sean enteros\n",
    "datos['Año'] = pd.to_numeric(datos['Año'], errors='coerce')\n",
    "datos['Semana'] = pd.to_numeric(datos['Semana'], errors='coerce')\n",
    "\n",
    "# Crear la columna 'Fecha' usando el lunes de cada semana ('Semana' y 'Año')\n",
    "datos['Fecha'] = pd.to_datetime(datos['Año'].astype(str) + datos['Semana'].astype(str) + '1', format='%Y%W%w')\n",
    "\n",
    "# Inspeccionar las primeras filas para verificar que la fecha se creó correctamente\n",
    "print(datos[['Año', 'Semana', 'Fecha']].head())\n"
   ]
  },
  {
   "cell_type": "markdown",
   "metadata": {},
   "source": [
    "Hacemos un subconjunto de los productos activos:"
   ]
  },
  {
   "cell_type": "code",
   "execution_count": 5,
   "metadata": {},
   "outputs": [
    {
     "name": "stdout",
     "output_type": "stream",
     "text": [
      "Fecha límite: 2024-06-09 00:00:00\n",
      "Cantidad de productos con demanda en los últimos 3 meses: 1322\n",
      "    Año  Trimestre  Mes  Semana  Región del cliente  \\\n",
      "0  2024          3    9      36                   1   \n",
      "1  2024          3    9      36                   1   \n",
      "2  2024          3    9      36                   1   \n",
      "3  2024          3    9      36                   1   \n",
      "4  2024          3    9      36                   1   \n",
      "\n",
      "           Categoría del producto                       Código del producto  \\\n",
      "0  SNACKS                          300101247                     C00598       \n",
      "1  LIQUIDOS                        300912666                     C00598       \n",
      "2  SNACKS                          300914040                     C00598       \n",
      "3  SNACKS                          300914041                     C00598       \n",
      "4  INSUMOS OPERACIONALES           400700584                     C00598       \n",
      "\n",
      "   Demanda del producto  Precio del producto      Fecha  \n",
      "0                   1.0              45289.0 2024-09-02  \n",
      "1                   2.0               2952.0 2024-09-02  \n",
      "2                   1.0              19152.0 2024-09-02  \n",
      "3                   1.0              28882.0 2024-09-02  \n",
      "4                   4.0               9600.0 2024-09-02  \n"
     ]
    }
   ],
   "source": [
    "# Paso 2.75: Filtrar productos con demanda en los últimos 3 meses\n",
    "\n",
    "# Determinar la fecha más reciente en los datos\n",
    "fecha_maxima = datos['Fecha'].max()\n",
    "\n",
    "# Calcular la fecha límite (3 meses antes de la fecha más reciente)\n",
    "fecha_limite = fecha_maxima - pd.DateOffset(months=3)\n",
    "\n",
    "# Filtrar los productos que han tenido demanda en los últimos 3 meses\n",
    "productos_recientes = datos[datos['Fecha'] >= fecha_limite]\n",
    "\n",
    "# Verificar los datos filtrados\n",
    "print(f\"Fecha límite: {fecha_limite}\")\n",
    "print(f\"Cantidad de productos con demanda en los últimos 3 meses: {productos_recientes['Código del producto'].nunique()}\")\n",
    "print(productos_recientes.head())\n"
   ]
  },
  {
   "cell_type": "markdown",
   "metadata": {},
   "source": [
    "Agrupamos usando las variables que nos interesan:"
   ]
  },
  {
   "cell_type": "code",
   "execution_count": 6,
   "metadata": {},
   "outputs": [
    {
     "name": "stdout",
     "output_type": "stream",
     "text": [
      "                         Código del producto   Año  Semana      Fecha  \\\n",
      "0   100200545                     C00598      2024      24 2024-06-10   \n",
      "1   100200545                     C00598      2024      25 2024-06-17   \n",
      "2   100200545                     C00598      2024      26 2024-06-24   \n",
      "3   100200545                     C00598      2024      30 2024-07-22   \n",
      "4   100200545                     C00598      2024      33 2024-08-12   \n",
      "5   100200545                     C00598      2024      34 2024-08-19   \n",
      "6   100200545                     C00598      2024      36 2024-09-02   \n",
      "7   100200902                     C00598      2024      24 2024-06-10   \n",
      "8   100200902                     C00598      2024      25 2024-06-17   \n",
      "9   100200902                     C00598      2024      26 2024-06-24   \n",
      "10  100200902                     C00598      2024      27 2024-07-01   \n",
      "11  100200902                     C00598      2024      28 2024-07-08   \n",
      "12  100200902                     C00598      2024      29 2024-07-15   \n",
      "13  100200902                     C00598      2024      30 2024-07-22   \n",
      "14  100200902                     C00598      2024      31 2024-07-29   \n",
      "15  100200902                     C00598      2024      32 2024-08-05   \n",
      "16  100200902                     C00598      2024      33 2024-08-12   \n",
      "17  100200902                     C00598      2024      34 2024-08-19   \n",
      "18  100200902                     C00598      2024      35 2024-08-26   \n",
      "19  100200902                     C00598      2024      36 2024-09-02   \n",
      "\n",
      "    Demanda del producto  Mes  Categoría del producto  \n",
      "0                    2.0    6                       3  \n",
      "1                    2.0    6                       3  \n",
      "2                    1.0    6                       3  \n",
      "3                    1.0    7                       3  \n",
      "4                    2.0    8                       3  \n",
      "5                    2.0    8                       3  \n",
      "6                    4.0    9                       3  \n",
      "7                   26.0    6                       6  \n",
      "8                   21.0    6                       6  \n",
      "9                   26.0    6                       6  \n",
      "10                  26.0    7                       6  \n",
      "11                  32.0    7                       6  \n",
      "12                  25.0    7                       6  \n",
      "13                  22.0    7                       6  \n",
      "14                  29.0    8                       6  \n",
      "15                  29.0    8                       6  \n",
      "16                  36.0    8                       6  \n",
      "17                  61.0    8                       6  \n",
      "18                  85.0    8                       6  \n",
      "19                  86.0    9                       6  \n"
     ]
    }
   ],
   "source": [
    "# Paso 3: Agrupar los datos filtrados por Código del producto, Año y Semana\n",
    "productos_agrupados = productos_recientes.groupby(['Código del producto', 'Año', 'Semana', 'Fecha']).agg({\n",
    "    'Demanda del producto': 'sum',  # Sumar la demanda para cada semana-año\n",
    "    'Mes': 'first',  # Tomar el primer valor del mes\n",
    "    'Categoría del producto': 'first',  # Tomar el primer valor de la categoría\n",
    "}).reset_index()\n",
    "\n",
    "# Asegurarnos de que las columnas categóricas sean numéricas\n",
    "label_encoder_categoria = LabelEncoder()\n",
    "productos_agrupados['Categoría del producto'] = label_encoder_categoria.fit_transform(productos_agrupados['Categoría del producto'])\n",
    "\n",
    "# Verificar que los datos se hayan procesado correctamente\n",
    "print(productos_agrupados.head(20))\n"
   ]
  },
  {
   "cell_type": "markdown",
   "metadata": {},
   "source": [
    "Revisamos el comportamiento de la demanda"
   ]
  },
  {
   "cell_type": "code",
   "execution_count": 7,
   "metadata": {},
   "outputs": [
    {
     "name": "stdout",
     "output_type": "stream",
     "text": [
      "count    13329.000000\n",
      "mean        57.515718\n",
      "std        146.288415\n",
      "min          1.000000\n",
      "25%          5.000000\n",
      "50%         14.000000\n",
      "75%         45.000000\n",
      "max       2529.000000\n",
      "Name: Demanda del producto, dtype: float64\n",
      "Valores nulos: 0\n",
      "Valores iguales a cero: 0\n",
      "Valores únicos: 647\n",
      "Percentiles de la demanda:\n",
      "0.25      5.00\n",
      "0.50     14.00\n",
      "0.75     45.00\n",
      "0.95    260.00\n",
      "0.99    723.88\n",
      "Name: Demanda del producto, dtype: float64\n"
     ]
    },
    {
     "data": {
      "image/png": "[encoded data removed]",
      "text/plain": [
       "<Figure size 1000x600 with 1 Axes>"
      ]
     },
     "metadata": {},
     "output_type": "display_data"
    }
   ],
   "source": [
    "# Obtener estadísticas descriptivas básicas de la columna 'Demanda del producto'\n",
    "estadisticos = productos_agrupados['Demanda del producto'].describe()\n",
    "\n",
    "# Imprimir estadísticas básicas\n",
    "print(estadisticos)\n",
    "\n",
    "# Revisar la cantidad de valores únicos, nulos y cero en la columna 'Demanda del producto'\n",
    "valores_nulos = productos_agrupados['Demanda del producto'].isnull().sum()\n",
    "valores_cero = (productos_agrupados['Demanda del producto'] == 0).sum()\n",
    "valores_unicos = productos_agrupados['Demanda del producto'].nunique()\n",
    "\n",
    "print(f\"Valores nulos: {valores_nulos}\")\n",
    "print(f\"Valores iguales a cero: {valores_cero}\")\n",
    "print(f\"Valores únicos: {valores_unicos}\")\n",
    "\n",
    "# Mostrar percentiles específicos para entender la distribución\n",
    "percentiles = productos_agrupados['Demanda del producto'].quantile([0.25, 0.5, 0.75, 0.95, 0.99])\n",
    "print(\"Percentiles de la demanda:\")\n",
    "print(percentiles)\n",
    "\n",
    "# Verificar la presencia de outliers visualmente con un boxplot\n",
    "import matplotlib.pyplot as plt\n",
    "import seaborn as sns\n",
    "\n",
    "plt.figure(figsize=(10, 6))\n",
    "sns.boxplot(x=productos_agrupados['Demanda del producto'])\n",
    "plt.title('Distribución de la demanda con un boxplot')\n",
    "plt.show()\n"
   ]
  },
  {
   "cell_type": "markdown",
   "metadata": {},
   "source": [
    "Escalamos la demanda:"
   ]
  },
  {
   "cell_type": "code",
   "execution_count": 8,
   "metadata": {},
   "outputs": [
    {
     "name": "stdout",
     "output_type": "stream",
     "text": [
      "Mínimos usados por el scaler: [1.]\n",
      "Máximos usados por el scaler: [2529.]\n"
     ]
    }
   ],
   "source": [
    "from sklearn.preprocessing import MinMaxScaler\n",
    "\n",
    "# Escalar los datos entre [1, 100] después de eliminar valores negativos\n",
    "scaler = MinMaxScaler(feature_range=(1,100)) #ITERABLE\n",
    "\n",
    "# Ajustar el escalador a los datos de demanda originales\n",
    "scaler.fit(productos_agrupados[['Demanda del producto']])\n",
    "\n",
    "# Aplicar el escalador a la columna de demanda\n",
    "productos_agrupados['Demanda del producto'] = scaler.transform(productos_agrupados[['Demanda del producto']])\n",
    "\n",
    "# Verificar el mínimo y máximo después de escalar\n",
    "print(\"Mínimos usados por el scaler:\", scaler.data_min_)\n",
    "print(\"Máximos usados por el scaler:\", scaler.data_max_)\n"
   ]
  },
  {
   "cell_type": "markdown",
   "metadata": {},
   "source": [
    "Creamos las secuencias LSTM:"
   ]
  },
  {
   "cell_type": "code",
   "execution_count": 9,
   "metadata": {},
   "outputs": [
    {
     "name": "stdout",
     "output_type": "stream",
     "text": [
      "Shape de X: (1310, 12, 3)\n",
      "Shape de y: (1310, 3)\n"
     ]
    }
   ],
   "source": [
    "# Paso 5: Crear secuencias para el modelo LSTM\n",
    "def crear_secuencias(data, window_size):\n",
    "    X, y = [], []\n",
    "    if len(data) > window_size:\n",
    "        for i in range(len(data) - window_size):\n",
    "            X.append(data[i:i+window_size])\n",
    "            y.append(data[i+window_size])\n",
    "    return np.array(X), np.array(y)\n",
    "\n",
    "# Definir el tamaño de la ventana de tiempo (cuántas semanas usar para predecir la siguiente semana)\n",
    "window_size = 12 #HIPERPARÁMETRO\n",
    "\n",
    "# Crear secuencias\n",
    "X_list, y_list = [], []\n",
    "for codigo_producto in productos_agrupados['Código del producto'].unique():\n",
    "    producto_data = productos_agrupados[productos_agrupados['Código del producto'] == codigo_producto]\n",
    "    producto_data_lstm = producto_data[['Demanda del producto', 'Mes', 'Categoría del producto']].values\n",
    "    X_producto, y_producto = crear_secuencias(producto_data_lstm, window_size)\n",
    "    if len(X_producto) > 0:\n",
    "        X_list.append(X_producto)\n",
    "        y_list.append(y_producto)\n",
    "\n",
    "# Concatenar las secuencias\n",
    "X = np.concatenate(X_list, axis=0)\n",
    "y = np.concatenate(y_list, axis=0)\n",
    "\n",
    "print(f\"Shape de X: {X.shape}\")\n",
    "print(f\"Shape de y: {y.shape}\")\n"
   ]
  },
  {
   "cell_type": "markdown",
   "metadata": {},
   "source": [
    "Construimos el modelo LSTM:"
   ]
  },
  {
   "cell_type": "code",
   "execution_count": 19,
   "metadata": {},
   "outputs": [
    {
     "data": {
      "text/html": [
       "<pre style=\"white-space:pre;overflow-x:auto;line-height:normal;font-family:Menlo,'DejaVu Sans Mono',consolas,'Courier New',monospace\"><span style=\"font-weight: bold\">Model: \"sequential_2\"</span>\n",
       "</pre>\n"
      ],
      "text/plain": [
       "\u001b[1mModel: \"sequential_2\"\u001b[0m\n"
      ]
     },
     "metadata": {},
     "output_type": "display_data"
    },
    {
     "data": {
      "text/html": [
       "<pre style=\"white-space:pre;overflow-x:auto;line-height:normal;font-family:Menlo,'DejaVu Sans Mono',consolas,'Courier New',monospace\">┏━━━━━━━━━━━━━━━━━━━━━━━━━━━━━━━━━┳━━━━━━━━━━━━━━━━━━━━━━━━┳━━━━━━━━━━━━━━━┓\n",
       "┃<span style=\"font-weight: bold\"> Layer (type)                    </span>┃<span style=\"font-weight: bold\"> Output Shape           </span>┃<span style=\"font-weight: bold\">       Param # </span>┃\n",
       "┡━━━━━━━━━━━━━━━━━━━━━━━━━━━━━━━━━╇━━━━━━━━━━━━━━━━━━━━━━━━╇━━━━━━━━━━━━━━━┩\n",
       "│ lstm_4 (<span style=\"color: #0087ff; text-decoration-color: #0087ff\">LSTM</span>)                   │ (<span style=\"color: #00d7ff; text-decoration-color: #00d7ff\">None</span>, <span style=\"color: #00af00; text-decoration-color: #00af00\">12</span>, <span style=\"color: #00af00; text-decoration-color: #00af00\">150</span>)        │        <span style=\"color: #00af00; text-decoration-color: #00af00\">92,400</span> │\n",
       "├─────────────────────────────────┼────────────────────────┼───────────────┤\n",
       "│ lstm_5 (<span style=\"color: #0087ff; text-decoration-color: #0087ff\">LSTM</span>)                   │ (<span style=\"color: #00d7ff; text-decoration-color: #00d7ff\">None</span>, <span style=\"color: #00af00; text-decoration-color: #00af00\">100</span>)            │       <span style=\"color: #00af00; text-decoration-color: #00af00\">100,400</span> │\n",
       "├─────────────────────────────────┼────────────────────────┼───────────────┤\n",
       "│ dropout_2 (<span style=\"color: #0087ff; text-decoration-color: #0087ff\">Dropout</span>)             │ (<span style=\"color: #00d7ff; text-decoration-color: #00d7ff\">None</span>, <span style=\"color: #00af00; text-decoration-color: #00af00\">100</span>)            │             <span style=\"color: #00af00; text-decoration-color: #00af00\">0</span> │\n",
       "├─────────────────────────────────┼────────────────────────┼───────────────┤\n",
       "│ dense_2 (<span style=\"color: #0087ff; text-decoration-color: #0087ff\">Dense</span>)                 │ (<span style=\"color: #00d7ff; text-decoration-color: #00d7ff\">None</span>, <span style=\"color: #00af00; text-decoration-color: #00af00\">1</span>)              │           <span style=\"color: #00af00; text-decoration-color: #00af00\">101</span> │\n",
       "├─────────────────────────────────┼────────────────────────┼───────────────┤\n",
       "│ re_lu_2 (<span style=\"color: #0087ff; text-decoration-color: #0087ff\">ReLU</span>)                  │ (<span style=\"color: #00d7ff; text-decoration-color: #00d7ff\">None</span>, <span style=\"color: #00af00; text-decoration-color: #00af00\">1</span>)              │             <span style=\"color: #00af00; text-decoration-color: #00af00\">0</span> │\n",
       "└─────────────────────────────────┴────────────────────────┴───────────────┘\n",
       "</pre>\n"
      ],
      "text/plain": [
       "┏━━━━━━━━━━━━━━━━━━━━━━━━━━━━━━━━━┳━━━━━━━━━━━━━━━━━━━━━━━━┳━━━━━━━━━━━━━━━┓\n",
       "┃\u001b[1m \u001b[0m\u001b[1mLayer (type)                   \u001b[0m\u001b[1m \u001b[0m┃\u001b[1m \u001b[0m\u001b[1mOutput Shape          \u001b[0m\u001b[1m \u001b[0m┃\u001b[1m \u001b[0m\u001b[1m      Param #\u001b[0m\u001b[1m \u001b[0m┃\n",
       "┡━━━━━━━━━━━━━━━━━━━━━━━━━━━━━━━━━╇━━━━━━━━━━━━━━━━━━━━━━━━╇━━━━━━━━━━━━━━━┩\n",
       "│ lstm_4 (\u001b[38;5;33mLSTM\u001b[0m)                   │ (\u001b[38;5;45mNone\u001b[0m, \u001b[38;5;34m12\u001b[0m, \u001b[38;5;34m150\u001b[0m)        │        \u001b[38;5;34m92,400\u001b[0m │\n",
       "├─────────────────────────────────┼────────────────────────┼───────────────┤\n",
       "│ lstm_5 (\u001b[38;5;33mLSTM\u001b[0m)                   │ (\u001b[38;5;45mNone\u001b[0m, \u001b[38;5;34m100\u001b[0m)            │       \u001b[38;5;34m100,400\u001b[0m │\n",
       "├─────────────────────────────────┼────────────────────────┼───────────────┤\n",
       "│ dropout_2 (\u001b[38;5;33mDropout\u001b[0m)             │ (\u001b[38;5;45mNone\u001b[0m, \u001b[38;5;34m100\u001b[0m)            │             \u001b[38;5;34m0\u001b[0m │\n",
       "├─────────────────────────────────┼────────────────────────┼───────────────┤\n",
       "│ dense_2 (\u001b[38;5;33mDense\u001b[0m)                 │ (\u001b[38;5;45mNone\u001b[0m, \u001b[38;5;34m1\u001b[0m)              │           \u001b[38;5;34m101\u001b[0m │\n",
       "├─────────────────────────────────┼────────────────────────┼───────────────┤\n",
       "│ re_lu_2 (\u001b[38;5;33mReLU\u001b[0m)                  │ (\u001b[38;5;45mNone\u001b[0m, \u001b[38;5;34m1\u001b[0m)              │             \u001b[38;5;34m0\u001b[0m │\n",
       "└─────────────────────────────────┴────────────────────────┴───────────────┘\n"
      ]
     },
     "metadata": {},
     "output_type": "display_data"
    },
    {
     "data": {
      "text/html": [
       "<pre style=\"white-space:pre;overflow-x:auto;line-height:normal;font-family:Menlo,'DejaVu Sans Mono',consolas,'Courier New',monospace\"><span style=\"font-weight: bold\"> Total params: </span><span style=\"color: #00af00; text-decoration-color: #00af00\">192,901</span> (753.52 KB)\n",
       "</pre>\n"
      ],
      "text/plain": [
       "\u001b[1m Total params: \u001b[0m\u001b[38;5;34m192,901\u001b[0m (753.52 KB)\n"
      ]
     },
     "metadata": {},
     "output_type": "display_data"
    },
    {
     "data": {
      "text/html": [
       "<pre style=\"white-space:pre;overflow-x:auto;line-height:normal;font-family:Menlo,'DejaVu Sans Mono',consolas,'Courier New',monospace\"><span style=\"font-weight: bold\"> Trainable params: </span><span style=\"color: #00af00; text-decoration-color: #00af00\">192,901</span> (753.52 KB)\n",
       "</pre>\n"
      ],
      "text/plain": [
       "\u001b[1m Trainable params: \u001b[0m\u001b[38;5;34m192,901\u001b[0m (753.52 KB)\n"
      ]
     },
     "metadata": {},
     "output_type": "display_data"
    },
    {
     "data": {
      "text/html": [
       "<pre style=\"white-space:pre;overflow-x:auto;line-height:normal;font-family:Menlo,'DejaVu Sans Mono',consolas,'Courier New',monospace\"><span style=\"font-weight: bold\"> Non-trainable params: </span><span style=\"color: #00af00; text-decoration-color: #00af00\">0</span> (0.00 B)\n",
       "</pre>\n"
      ],
      "text/plain": [
       "\u001b[1m Non-trainable params: \u001b[0m\u001b[38;5;34m0\u001b[0m (0.00 B)\n"
      ]
     },
     "metadata": {},
     "output_type": "display_data"
    }
   ],
   "source": [
    "from tensorflow.keras.optimizers import Adam\n",
    "\n",
    "# Paso: Crear el modelo LSTM\n",
    "model = Sequential()\n",
    "model.add(Input(shape=(X.shape[1], X.shape[2])))\n",
    "model.add(LSTM(150, return_sequences=True))  #HIPERPARÁMETRO\n",
    "model.add(LSTM(100, return_sequences=False))  #HIPERPARÁMETRO\n",
    "model.add(Dropout(0.2))\n",
    "model.add(Dense(1))\n",
    "\n",
    "# Agregar ReLU para forzar valores ≥ 0\n",
    "model.add(ReLU())\n",
    "\n",
    "# Definir la función de pérdida personalizada\n",
    "def custom_loss(y_true, y_pred):\n",
    "    # Calcula el MSE como de costumbre\n",
    "    mse_loss = K.mean(K.square(y_true - y_pred), axis=-1)\n",
    "    \n",
    "    # Penalizar predicciones negativas\n",
    "    negative_penalty = K.mean(K.relu(-y_pred), axis=-1)\n",
    "    \n",
    "    # La pérdida total será la combinación de ambas\n",
    "    return mse_loss + negative_penalty\n",
    "\n",
    "# Paso: Ajustar el optimizador con una tasa de aprendizaje más baja\n",
    "optimizer = Adam(learning_rate=0.0005)  #HIPERPARÁMETRO\n",
    "\n",
    "# Paso: Compilar el modelo con el optimizador ajustado\n",
    "model.compile(optimizer=optimizer, loss='mean_squared_error')\n",
    "\n",
    "# Mostrar resumen del modelo\n",
    "model.summary()\n",
    "\n"
   ]
  },
  {
   "cell_type": "markdown",
   "metadata": {},
   "source": [
    "Entrenamos:"
   ]
  },
  {
   "cell_type": "code",
   "execution_count": 20,
   "metadata": {},
   "outputs": [
    {
     "name": "stdout",
     "output_type": "stream",
     "text": [
      "Epoch 1/100\n",
      "\u001b[1m17/17\u001b[0m \u001b[32m━━━━━━━━━━━━━━━━━━━━\u001b[0m\u001b[37m\u001b[0m \u001b[1m3s\u001b[0m 34ms/step - loss: 54.1423 - val_loss: 2.9824\n",
      "Epoch 2/100\n",
      "\u001b[1m17/17\u001b[0m \u001b[32m━━━━━━━━━━━━━━━━━━━━\u001b[0m\u001b[37m\u001b[0m \u001b[1m0s\u001b[0m 17ms/step - loss: 38.6500 - val_loss: 0.5079\n",
      "Epoch 3/100\n",
      "\u001b[1m17/17\u001b[0m \u001b[32m━━━━━━━━━━━━━━━━━━━━\u001b[0m\u001b[37m\u001b[0m \u001b[1m0s\u001b[0m 17ms/step - loss: 35.1143 - val_loss: 0.4978\n",
      "Epoch 4/100\n",
      "\u001b[1m17/17\u001b[0m \u001b[32m━━━━━━━━━━━━━━━━━━━━\u001b[0m\u001b[37m\u001b[0m \u001b[1m0s\u001b[0m 18ms/step - loss: 19.7644 - val_loss: 0.4259\n",
      "Epoch 5/100\n",
      "\u001b[1m17/17\u001b[0m \u001b[32m━━━━━━━━━━━━━━━━━━━━\u001b[0m\u001b[37m\u001b[0m \u001b[1m0s\u001b[0m 18ms/step - loss: 25.9527 - val_loss: 0.4707\n",
      "Epoch 6/100\n",
      "\u001b[1m17/17\u001b[0m \u001b[32m━━━━━━━━━━━━━━━━━━━━\u001b[0m\u001b[37m\u001b[0m \u001b[1m0s\u001b[0m 17ms/step - loss: 23.6586 - val_loss: 0.4161\n",
      "Epoch 7/100\n",
      "\u001b[1m17/17\u001b[0m \u001b[32m━━━━━━━━━━━━━━━━━━━━\u001b[0m\u001b[37m\u001b[0m \u001b[1m0s\u001b[0m 17ms/step - loss: 8.1321 - val_loss: 0.4757\n",
      "Epoch 8/100\n",
      "\u001b[1m17/17\u001b[0m \u001b[32m━━━━━━━━━━━━━━━━━━━━\u001b[0m\u001b[37m\u001b[0m \u001b[1m0s\u001b[0m 18ms/step - loss: 23.5854 - val_loss: 0.5280\n",
      "Epoch 9/100\n",
      "\u001b[1m17/17\u001b[0m \u001b[32m━━━━━━━━━━━━━━━━━━━━\u001b[0m\u001b[37m\u001b[0m \u001b[1m0s\u001b[0m 17ms/step - loss: 14.7876 - val_loss: 0.4898\n",
      "Epoch 10/100\n",
      "\u001b[1m17/17\u001b[0m \u001b[32m━━━━━━━━━━━━━━━━━━━━\u001b[0m\u001b[37m\u001b[0m \u001b[1m0s\u001b[0m 17ms/step - loss: 17.9325 - val_loss: 0.4811\n",
      "Epoch 11/100\n",
      "\u001b[1m17/17\u001b[0m \u001b[32m━━━━━━━━━━━━━━━━━━━━\u001b[0m\u001b[37m\u001b[0m \u001b[1m0s\u001b[0m 17ms/step - loss: 22.6191 - val_loss: 0.4587\n",
      "Epoch 12/100\n",
      "\u001b[1m17/17\u001b[0m \u001b[32m━━━━━━━━━━━━━━━━━━━━\u001b[0m\u001b[37m\u001b[0m \u001b[1m0s\u001b[0m 17ms/step - loss: 11.1973 - val_loss: 0.5893\n",
      "Epoch 13/100\n",
      "\u001b[1m17/17\u001b[0m \u001b[32m━━━━━━━━━━━━━━━━━━━━\u001b[0m\u001b[37m\u001b[0m \u001b[1m0s\u001b[0m 18ms/step - loss: 19.9671 - val_loss: 0.4819\n",
      "Epoch 14/100\n",
      "\u001b[1m17/17\u001b[0m \u001b[32m━━━━━━━━━━━━━━━━━━━━\u001b[0m\u001b[37m\u001b[0m \u001b[1m0s\u001b[0m 17ms/step - loss: 16.0366 - val_loss: 0.5561\n",
      "Epoch 15/100\n",
      "\u001b[1m17/17\u001b[0m \u001b[32m━━━━━━━━━━━━━━━━━━━━\u001b[0m\u001b[37m\u001b[0m \u001b[1m0s\u001b[0m 19ms/step - loss: 13.4582 - val_loss: 0.4504\n",
      "Epoch 16/100\n",
      "\u001b[1m17/17\u001b[0m \u001b[32m━━━━━━━━━━━━━━━━━━━━\u001b[0m\u001b[37m\u001b[0m \u001b[1m0s\u001b[0m 18ms/step - loss: 15.3811 - val_loss: 0.5130\n",
      "Epoch 17/100\n",
      "\u001b[1m17/17\u001b[0m \u001b[32m━━━━━━━━━━━━━━━━━━━━\u001b[0m\u001b[37m\u001b[0m \u001b[1m0s\u001b[0m 17ms/step - loss: 12.5738 - val_loss: 0.5462\n",
      "Epoch 18/100\n",
      "\u001b[1m17/17\u001b[0m \u001b[32m━━━━━━━━━━━━━━━━━━━━\u001b[0m\u001b[37m\u001b[0m \u001b[1m0s\u001b[0m 18ms/step - loss: 12.1818 - val_loss: 0.5212\n",
      "Epoch 19/100\n",
      "\u001b[1m17/17\u001b[0m \u001b[32m━━━━━━━━━━━━━━━━━━━━\u001b[0m\u001b[37m\u001b[0m \u001b[1m0s\u001b[0m 18ms/step - loss: 12.2157 - val_loss: 0.5348\n",
      "Epoch 20/100\n",
      "\u001b[1m17/17\u001b[0m \u001b[32m━━━━━━━━━━━━━━━━━━━━\u001b[0m\u001b[37m\u001b[0m \u001b[1m0s\u001b[0m 18ms/step - loss: 7.8657 - val_loss: 0.5620\n",
      "Epoch 21/100\n",
      "\u001b[1m17/17\u001b[0m \u001b[32m━━━━━━━━━━━━━━━━━━━━\u001b[0m\u001b[37m\u001b[0m \u001b[1m0s\u001b[0m 17ms/step - loss: 10.7466 - val_loss: 0.6009\n",
      "Epoch 22/100\n",
      "\u001b[1m17/17\u001b[0m \u001b[32m━━━━━━━━━━━━━━━━━━━━\u001b[0m\u001b[37m\u001b[0m \u001b[1m0s\u001b[0m 17ms/step - loss: 13.9835 - val_loss: 0.4899\n",
      "Epoch 23/100\n",
      "\u001b[1m17/17\u001b[0m \u001b[32m━━━━━━━━━━━━━━━━━━━━\u001b[0m\u001b[37m\u001b[0m \u001b[1m0s\u001b[0m 17ms/step - loss: 19.0987 - val_loss: 0.5237\n",
      "Epoch 24/100\n",
      "\u001b[1m17/17\u001b[0m \u001b[32m━━━━━━━━━━━━━━━━━━━━\u001b[0m\u001b[37m\u001b[0m \u001b[1m0s\u001b[0m 17ms/step - loss: 8.0716 - val_loss: 0.6398\n",
      "Epoch 25/100\n",
      "\u001b[1m17/17\u001b[0m \u001b[32m━━━━━━━━━━━━━━━━━━━━\u001b[0m\u001b[37m\u001b[0m \u001b[1m0s\u001b[0m 17ms/step - loss: 15.3836 - val_loss: 0.4827\n",
      "Epoch 26/100\n",
      "\u001b[1m17/17\u001b[0m \u001b[32m━━━━━━━━━━━━━━━━━━━━\u001b[0m\u001b[37m\u001b[0m \u001b[1m0s\u001b[0m 17ms/step - loss: 15.6127 - val_loss: 0.5694\n",
      "Epoch 27/100\n",
      "\u001b[1m17/17\u001b[0m \u001b[32m━━━━━━━━━━━━━━━━━━━━\u001b[0m\u001b[37m\u001b[0m \u001b[1m0s\u001b[0m 17ms/step - loss: 6.3328 - val_loss: 0.5671\n",
      "Epoch 28/100\n",
      "\u001b[1m17/17\u001b[0m \u001b[32m━━━━━━━━━━━━━━━━━━━━\u001b[0m\u001b[37m\u001b[0m \u001b[1m0s\u001b[0m 17ms/step - loss: 6.8626 - val_loss: 0.5843\n",
      "Epoch 29/100\n",
      "\u001b[1m17/17\u001b[0m \u001b[32m━━━━━━━━━━━━━━━━━━━━\u001b[0m\u001b[37m\u001b[0m \u001b[1m0s\u001b[0m 18ms/step - loss: 11.4169 - val_loss: 0.5201\n",
      "Epoch 30/100\n",
      "\u001b[1m17/17\u001b[0m \u001b[32m━━━━━━━━━━━━━━━━━━━━\u001b[0m\u001b[37m\u001b[0m \u001b[1m0s\u001b[0m 17ms/step - loss: 15.1572 - val_loss: 0.5388\n",
      "Epoch 31/100\n",
      "\u001b[1m17/17\u001b[0m \u001b[32m━━━━━━━━━━━━━━━━━━━━\u001b[0m\u001b[37m\u001b[0m \u001b[1m0s\u001b[0m 18ms/step - loss: 14.7395 - val_loss: 0.5811\n",
      "Epoch 32/100\n",
      "\u001b[1m17/17\u001b[0m \u001b[32m━━━━━━━━━━━━━━━━━━━━\u001b[0m\u001b[37m\u001b[0m \u001b[1m0s\u001b[0m 17ms/step - loss: 5.6526 - val_loss: 0.5485\n",
      "Epoch 33/100\n",
      "\u001b[1m17/17\u001b[0m \u001b[32m━━━━━━━━━━━━━━━━━━━━\u001b[0m\u001b[37m\u001b[0m \u001b[1m0s\u001b[0m 17ms/step - loss: 5.2408 - val_loss: 0.5660\n",
      "Epoch 34/100\n",
      "\u001b[1m17/17\u001b[0m \u001b[32m━━━━━━━━━━━━━━━━━━━━\u001b[0m\u001b[37m\u001b[0m \u001b[1m0s\u001b[0m 17ms/step - loss: 9.8368 - val_loss: 0.4980\n",
      "Epoch 35/100\n",
      "\u001b[1m17/17\u001b[0m \u001b[32m━━━━━━━━━━━━━━━━━━━━\u001b[0m\u001b[37m\u001b[0m \u001b[1m0s\u001b[0m 17ms/step - loss: 5.6668 - val_loss: 0.5012\n",
      "Epoch 36/100\n",
      "\u001b[1m17/17\u001b[0m \u001b[32m━━━━━━━━━━━━━━━━━━━━\u001b[0m\u001b[37m\u001b[0m \u001b[1m0s\u001b[0m 17ms/step - loss: 13.8190 - val_loss: 0.5118\n",
      "Epoch 37/100\n",
      "\u001b[1m17/17\u001b[0m \u001b[32m━━━━━━━━━━━━━━━━━━━━\u001b[0m\u001b[37m\u001b[0m \u001b[1m0s\u001b[0m 17ms/step - loss: 6.8816 - val_loss: 0.5386\n",
      "Epoch 38/100\n",
      "\u001b[1m17/17\u001b[0m \u001b[32m━━━━━━━━━━━━━━━━━━━━\u001b[0m\u001b[37m\u001b[0m \u001b[1m0s\u001b[0m 17ms/step - loss: 8.8906 - val_loss: 0.5057\n",
      "Epoch 39/100\n",
      "\u001b[1m17/17\u001b[0m \u001b[32m━━━━━━━━━━━━━━━━━━━━\u001b[0m\u001b[37m\u001b[0m \u001b[1m0s\u001b[0m 17ms/step - loss: 11.8792 - val_loss: 0.5184\n",
      "Epoch 40/100\n",
      "\u001b[1m17/17\u001b[0m \u001b[32m━━━━━━━━━━━━━━━━━━━━\u001b[0m\u001b[37m\u001b[0m \u001b[1m0s\u001b[0m 18ms/step - loss: 6.0129 - val_loss: 0.6785\n",
      "Epoch 41/100\n",
      "\u001b[1m17/17\u001b[0m \u001b[32m━━━━━━━━━━━━━━━━━━━━\u001b[0m\u001b[37m\u001b[0m \u001b[1m0s\u001b[0m 17ms/step - loss: 6.4324 - val_loss: 0.4942\n",
      "Epoch 42/100\n",
      "\u001b[1m17/17\u001b[0m \u001b[32m━━━━━━━━━━━━━━━━━━━━\u001b[0m\u001b[37m\u001b[0m \u001b[1m0s\u001b[0m 17ms/step - loss: 13.3279 - val_loss: 0.5347\n",
      "Epoch 43/100\n",
      "\u001b[1m17/17\u001b[0m \u001b[32m━━━━━━━━━━━━━━━━━━━━\u001b[0m\u001b[37m\u001b[0m \u001b[1m0s\u001b[0m 17ms/step - loss: 6.5743 - val_loss: 0.5423\n",
      "Epoch 44/100\n",
      "\u001b[1m17/17\u001b[0m \u001b[32m━━━━━━━━━━━━━━━━━━━━\u001b[0m\u001b[37m\u001b[0m \u001b[1m0s\u001b[0m 17ms/step - loss: 3.9241 - val_loss: 0.4797\n",
      "Epoch 45/100\n",
      "\u001b[1m17/17\u001b[0m \u001b[32m━━━━━━━━━━━━━━━━━━━━\u001b[0m\u001b[37m\u001b[0m \u001b[1m0s\u001b[0m 17ms/step - loss: 9.7872 - val_loss: 0.4855\n",
      "Epoch 46/100\n",
      "\u001b[1m17/17\u001b[0m \u001b[32m━━━━━━━━━━━━━━━━━━━━\u001b[0m\u001b[37m\u001b[0m \u001b[1m0s\u001b[0m 17ms/step - loss: 20.3408 - val_loss: 0.5263\n",
      "Epoch 47/100\n",
      "\u001b[1m17/17\u001b[0m \u001b[32m━━━━━━━━━━━━━━━━━━━━\u001b[0m\u001b[37m\u001b[0m \u001b[1m0s\u001b[0m 17ms/step - loss: 13.4145 - val_loss: 0.5047\n",
      "Epoch 48/100\n",
      "\u001b[1m17/17\u001b[0m \u001b[32m━━━━━━━━━━━━━━━━━━━━\u001b[0m\u001b[37m\u001b[0m \u001b[1m0s\u001b[0m 17ms/step - loss: 5.2922 - val_loss: 0.5003\n",
      "Epoch 49/100\n",
      "\u001b[1m17/17\u001b[0m \u001b[32m━━━━━━━━━━━━━━━━━━━━\u001b[0m\u001b[37m\u001b[0m \u001b[1m0s\u001b[0m 17ms/step - loss: 8.0576 - val_loss: 0.5428\n",
      "Epoch 50/100\n",
      "\u001b[1m17/17\u001b[0m \u001b[32m━━━━━━━━━━━━━━━━━━━━\u001b[0m\u001b[37m\u001b[0m \u001b[1m0s\u001b[0m 18ms/step - loss: 7.1764 - val_loss: 0.5929\n",
      "Epoch 51/100\n",
      "\u001b[1m17/17\u001b[0m \u001b[32m━━━━━━━━━━━━━━━━━━━━\u001b[0m\u001b[37m\u001b[0m \u001b[1m0s\u001b[0m 17ms/step - loss: 3.6999 - val_loss: 0.5579\n",
      "Epoch 52/100\n",
      "\u001b[1m17/17\u001b[0m \u001b[32m━━━━━━━━━━━━━━━━━━━━\u001b[0m\u001b[37m\u001b[0m \u001b[1m0s\u001b[0m 17ms/step - loss: 10.2574 - val_loss: 0.5099\n",
      "Epoch 53/100\n",
      "\u001b[1m17/17\u001b[0m \u001b[32m━━━━━━━━━━━━━━━━━━━━\u001b[0m\u001b[37m\u001b[0m \u001b[1m0s\u001b[0m 17ms/step - loss: 8.5977 - val_loss: 0.4900\n",
      "Epoch 54/100\n",
      "\u001b[1m17/17\u001b[0m \u001b[32m━━━━━━━━━━━━━━━━━━━━\u001b[0m\u001b[37m\u001b[0m \u001b[1m0s\u001b[0m 17ms/step - loss: 6.9314 - val_loss: 0.6616\n",
      "Epoch 55/100\n",
      "\u001b[1m17/17\u001b[0m \u001b[32m━━━━━━━━━━━━━━━━━━━━\u001b[0m\u001b[37m\u001b[0m \u001b[1m0s\u001b[0m 17ms/step - loss: 9.8787 - val_loss: 0.5153\n",
      "Epoch 56/100\n",
      "\u001b[1m17/17\u001b[0m \u001b[32m━━━━━━━━━━━━━━━━━━━━\u001b[0m\u001b[37m\u001b[0m \u001b[1m0s\u001b[0m 20ms/step - loss: 16.6349 - val_loss: 0.4949\n",
      "Epoch 57/100\n",
      "\u001b[1m17/17\u001b[0m \u001b[32m━━━━━━━━━━━━━━━━━━━━\u001b[0m\u001b[37m\u001b[0m \u001b[1m0s\u001b[0m 17ms/step - loss: 9.9681 - val_loss: 0.5552\n",
      "Epoch 58/100\n",
      "\u001b[1m17/17\u001b[0m \u001b[32m━━━━━━━━━━━━━━━━━━━━\u001b[0m\u001b[37m\u001b[0m \u001b[1m0s\u001b[0m 17ms/step - loss: 14.5664 - val_loss: 0.4736\n",
      "Epoch 59/100\n",
      "\u001b[1m17/17\u001b[0m \u001b[32m━━━━━━━━━━━━━━━━━━━━\u001b[0m\u001b[37m\u001b[0m \u001b[1m0s\u001b[0m 17ms/step - loss: 5.8300 - val_loss: 0.4951\n",
      "Epoch 60/100\n",
      "\u001b[1m17/17\u001b[0m \u001b[32m━━━━━━━━━━━━━━━━━━━━\u001b[0m\u001b[37m\u001b[0m \u001b[1m0s\u001b[0m 19ms/step - loss: 7.0455 - val_loss: 0.4930\n",
      "Epoch 61/100\n",
      "\u001b[1m17/17\u001b[0m \u001b[32m━━━━━━━━━━━━━━━━━━━━\u001b[0m\u001b[37m\u001b[0m \u001b[1m0s\u001b[0m 17ms/step - loss: 7.1608 - val_loss: 0.4807\n",
      "Epoch 62/100\n",
      "\u001b[1m17/17\u001b[0m \u001b[32m━━━━━━━━━━━━━━━━━━━━\u001b[0m\u001b[37m\u001b[0m \u001b[1m0s\u001b[0m 17ms/step - loss: 3.8772 - val_loss: 0.5188\n",
      "Epoch 63/100\n",
      "\u001b[1m17/17\u001b[0m \u001b[32m━━━━━━━━━━━━━━━━━━━━\u001b[0m\u001b[37m\u001b[0m \u001b[1m0s\u001b[0m 17ms/step - loss: 4.3417 - val_loss: 0.4828\n",
      "Epoch 64/100\n",
      "\u001b[1m17/17\u001b[0m \u001b[32m━━━━━━━━━━━━━━━━━━━━\u001b[0m\u001b[37m\u001b[0m \u001b[1m0s\u001b[0m 17ms/step - loss: 6.8780 - val_loss: 0.5479\n",
      "Epoch 65/100\n",
      "\u001b[1m17/17\u001b[0m \u001b[32m━━━━━━━━━━━━━━━━━━━━\u001b[0m\u001b[37m\u001b[0m \u001b[1m0s\u001b[0m 17ms/step - loss: 9.1506 - val_loss: 0.4670\n",
      "Epoch 66/100\n",
      "\u001b[1m17/17\u001b[0m \u001b[32m━━━━━━━━━━━━━━━━━━━━\u001b[0m\u001b[37m\u001b[0m \u001b[1m0s\u001b[0m 17ms/step - loss: 7.9635 - val_loss: 0.5037\n",
      "Epoch 67/100\n",
      "\u001b[1m17/17\u001b[0m \u001b[32m━━━━━━━━━━━━━━━━━━━━\u001b[0m\u001b[37m\u001b[0m \u001b[1m0s\u001b[0m 17ms/step - loss: 7.6824 - val_loss: 0.5552\n",
      "Epoch 68/100\n",
      "\u001b[1m17/17\u001b[0m \u001b[32m━━━━━━━━━━━━━━━━━━━━\u001b[0m\u001b[37m\u001b[0m \u001b[1m0s\u001b[0m 17ms/step - loss: 4.6668 - val_loss: 0.5698\n",
      "Epoch 69/100\n",
      "\u001b[1m17/17\u001b[0m \u001b[32m━━━━━━━━━━━━━━━━━━━━\u001b[0m\u001b[37m\u001b[0m \u001b[1m0s\u001b[0m 18ms/step - loss: 7.4113 - val_loss: 0.8542\n",
      "Epoch 70/100\n",
      "\u001b[1m17/17\u001b[0m \u001b[32m━━━━━━━━━━━━━━━━━━━━\u001b[0m\u001b[37m\u001b[0m \u001b[1m0s\u001b[0m 17ms/step - loss: 7.9159 - val_loss: 0.4951\n",
      "Epoch 71/100\n",
      "\u001b[1m17/17\u001b[0m \u001b[32m━━━━━━━━━━━━━━━━━━━━\u001b[0m\u001b[37m\u001b[0m \u001b[1m0s\u001b[0m 17ms/step - loss: 7.8214 - val_loss: 0.4862\n",
      "Epoch 72/100\n",
      "\u001b[1m17/17\u001b[0m \u001b[32m━━━━━━━━━━━━━━━━━━━━\u001b[0m\u001b[37m\u001b[0m \u001b[1m0s\u001b[0m 17ms/step - loss: 8.3409 - val_loss: 0.5084\n",
      "Epoch 73/100\n",
      "\u001b[1m17/17\u001b[0m \u001b[32m━━━━━━━━━━━━━━━━━━━━\u001b[0m\u001b[37m\u001b[0m \u001b[1m0s\u001b[0m 18ms/step - loss: 8.8559 - val_loss: 0.4578\n",
      "Epoch 74/100\n",
      "\u001b[1m17/17\u001b[0m \u001b[32m━━━━━━━━━━━━━━━━━━━━\u001b[0m\u001b[37m\u001b[0m \u001b[1m0s\u001b[0m 17ms/step - loss: 5.0267 - val_loss: 0.5292\n",
      "Epoch 75/100\n",
      "\u001b[1m17/17\u001b[0m \u001b[32m━━━━━━━━━━━━━━━━━━━━\u001b[0m\u001b[37m\u001b[0m \u001b[1m0s\u001b[0m 17ms/step - loss: 6.5721 - val_loss: 0.4702\n",
      "Epoch 76/100\n",
      "\u001b[1m17/17\u001b[0m \u001b[32m━━━━━━━━━━━━━━━━━━━━\u001b[0m\u001b[37m\u001b[0m \u001b[1m0s\u001b[0m 17ms/step - loss: 3.6521 - val_loss: 0.4774\n",
      "Epoch 77/100\n",
      "\u001b[1m17/17\u001b[0m \u001b[32m━━━━━━━━━━━━━━━━━━━━\u001b[0m\u001b[37m\u001b[0m \u001b[1m0s\u001b[0m 17ms/step - loss: 4.5526 - val_loss: 0.4981\n",
      "Epoch 78/100\n",
      "\u001b[1m17/17\u001b[0m \u001b[32m━━━━━━━━━━━━━━━━━━━━\u001b[0m\u001b[37m\u001b[0m \u001b[1m0s\u001b[0m 17ms/step - loss: 10.7034 - val_loss: 0.4464\n",
      "Epoch 79/100\n",
      "\u001b[1m17/17\u001b[0m \u001b[32m━━━━━━━━━━━━━━━━━━━━\u001b[0m\u001b[37m\u001b[0m \u001b[1m0s\u001b[0m 17ms/step - loss: 10.7743 - val_loss: 0.5087\n",
      "Epoch 80/100\n",
      "\u001b[1m17/17\u001b[0m \u001b[32m━━━━━━━━━━━━━━━━━━━━\u001b[0m\u001b[37m\u001b[0m \u001b[1m0s\u001b[0m 18ms/step - loss: 5.1143 - val_loss: 0.4596\n",
      "Epoch 81/100\n",
      "\u001b[1m17/17\u001b[0m \u001b[32m━━━━━━━━━━━━━━━━━━━━\u001b[0m\u001b[37m\u001b[0m \u001b[1m0s\u001b[0m 17ms/step - loss: 4.2087 - val_loss: 0.4977\n",
      "Epoch 82/100\n",
      "\u001b[1m17/17\u001b[0m \u001b[32m━━━━━━━━━━━━━━━━━━━━\u001b[0m\u001b[37m\u001b[0m \u001b[1m0s\u001b[0m 18ms/step - loss: 8.6405 - val_loss: 0.4822\n",
      "Epoch 83/100\n",
      "\u001b[1m17/17\u001b[0m \u001b[32m━━━━━━━━━━━━━━━━━━━━\u001b[0m\u001b[37m\u001b[0m \u001b[1m0s\u001b[0m 18ms/step - loss: 7.9151 - val_loss: 0.4576\n",
      "Epoch 84/100\n",
      "\u001b[1m17/17\u001b[0m \u001b[32m━━━━━━━━━━━━━━━━━━━━\u001b[0m\u001b[37m\u001b[0m \u001b[1m0s\u001b[0m 17ms/step - loss: 7.1815 - val_loss: 0.5267\n",
      "Epoch 85/100\n",
      "\u001b[1m17/17\u001b[0m \u001b[32m━━━━━━━━━━━━━━━━━━━━\u001b[0m\u001b[37m\u001b[0m \u001b[1m0s\u001b[0m 18ms/step - loss: 5.0313 - val_loss: 0.5618\n",
      "Epoch 86/100\n",
      "\u001b[1m17/17\u001b[0m \u001b[32m━━━━━━━━━━━━━━━━━━━━\u001b[0m\u001b[37m\u001b[0m \u001b[1m0s\u001b[0m 21ms/step - loss: 2.3085 - val_loss: 0.5898\n",
      "Epoch 87/100\n",
      "\u001b[1m17/17\u001b[0m \u001b[32m━━━━━━━━━━━━━━━━━━━━\u001b[0m\u001b[37m\u001b[0m \u001b[1m0s\u001b[0m 17ms/step - loss: 5.1352 - val_loss: 0.4513\n",
      "Epoch 88/100\n",
      "\u001b[1m17/17\u001b[0m \u001b[32m━━━━━━━━━━━━━━━━━━━━\u001b[0m\u001b[37m\u001b[0m \u001b[1m0s\u001b[0m 18ms/step - loss: 5.4657 - val_loss: 0.4729\n",
      "Epoch 89/100\n",
      "\u001b[1m17/17\u001b[0m \u001b[32m━━━━━━━━━━━━━━━━━━━━\u001b[0m\u001b[37m\u001b[0m \u001b[1m0s\u001b[0m 17ms/step - loss: 5.3298 - val_loss: 0.4594\n",
      "Epoch 90/100\n",
      "\u001b[1m17/17\u001b[0m \u001b[32m━━━━━━━━━━━━━━━━━━━━\u001b[0m\u001b[37m\u001b[0m \u001b[1m0s\u001b[0m 17ms/step - loss: 4.8213 - val_loss: 0.5699\n",
      "Epoch 91/100\n",
      "\u001b[1m17/17\u001b[0m \u001b[32m━━━━━━━━━━━━━━━━━━━━\u001b[0m\u001b[37m\u001b[0m \u001b[1m0s\u001b[0m 17ms/step - loss: 4.2830 - val_loss: 0.4830\n",
      "Epoch 92/100\n",
      "\u001b[1m17/17\u001b[0m \u001b[32m━━━━━━━━━━━━━━━━━━━━\u001b[0m\u001b[37m\u001b[0m \u001b[1m0s\u001b[0m 17ms/step - loss: 2.6399 - val_loss: 0.5248\n",
      "Epoch 93/100\n",
      "\u001b[1m17/17\u001b[0m \u001b[32m━━━━━━━━━━━━━━━━━━━━\u001b[0m\u001b[37m\u001b[0m \u001b[1m0s\u001b[0m 17ms/step - loss: 8.2365 - val_loss: 0.4692\n",
      "Epoch 94/100\n",
      "\u001b[1m17/17\u001b[0m \u001b[32m━━━━━━━━━━━━━━━━━━━━\u001b[0m\u001b[37m\u001b[0m \u001b[1m0s\u001b[0m 17ms/step - loss: 9.3717 - val_loss: 0.5573\n",
      "Epoch 95/100\n",
      "\u001b[1m17/17\u001b[0m \u001b[32m━━━━━━━━━━━━━━━━━━━━\u001b[0m\u001b[37m\u001b[0m \u001b[1m0s\u001b[0m 18ms/step - loss: 2.9814 - val_loss: 0.4665\n",
      "Epoch 96/100\n",
      "\u001b[1m17/17\u001b[0m \u001b[32m━━━━━━━━━━━━━━━━━━━━\u001b[0m\u001b[37m\u001b[0m \u001b[1m0s\u001b[0m 18ms/step - loss: 3.0526 - val_loss: 0.5111\n",
      "Epoch 97/100\n",
      "\u001b[1m17/17\u001b[0m \u001b[32m━━━━━━━━━━━━━━━━━━━━\u001b[0m\u001b[37m\u001b[0m \u001b[1m0s\u001b[0m 19ms/step - loss: 8.2867 - val_loss: 0.5301\n",
      "Epoch 98/100\n",
      "\u001b[1m17/17\u001b[0m \u001b[32m━━━━━━━━━━━━━━━━━━━━\u001b[0m\u001b[37m\u001b[0m \u001b[1m0s\u001b[0m 17ms/step - loss: 3.5933 - val_loss: 0.5364\n",
      "Epoch 99/100\n",
      "\u001b[1m17/17\u001b[0m \u001b[32m━━━━━━━━━━━━━━━━━━━━\u001b[0m\u001b[37m\u001b[0m \u001b[1m0s\u001b[0m 18ms/step - loss: 3.4022 - val_loss: 0.4717\n",
      "Epoch 100/100\n",
      "\u001b[1m17/17\u001b[0m \u001b[32m━━━━━━━━━━━━━━━━━━━━\u001b[0m\u001b[37m\u001b[0m \u001b[1m0s\u001b[0m 17ms/step - loss: 3.4913 - val_loss: 0.4842\n"
     ]
    },
    {
     "data": {
      "image/png": "[encoded data removed]",
      "text/plain": [
       "<Figure size 640x480 with 1 Axes>"
      ]
     },
     "metadata": {},
     "output_type": "display_data"
    }
   ],
   "source": [
    "# Paso 7: Dividir los datos en conjunto de entrenamiento y prueba\n",
    "X_train, X_test, y_train, y_test = train_test_split(X, y[:, 0], test_size=0.2, shuffle=False)\n",
    "\n",
    "# Entrenar el modelo\n",
    "history = model.fit(X_train, y_train, epochs=100, batch_size=64, validation_data=(X_test, y_test))\n",
    "#HIPERPARÁMETRO\n",
    "\n",
    "# Graficar el historial de entrenamiento\n",
    "plt.plot(history.history['loss'], label='Pérdida de entrenamiento')\n",
    "plt.plot(history.history['val_loss'], label='Pérdida de validación')\n",
    "plt.legend()\n",
    "plt.show()\n"
   ]
  },
  {
   "cell_type": "code",
   "execution_count": 21,
   "metadata": {},
   "outputs": [
    {
     "name": "stdout",
     "output_type": "stream",
     "text": [
      "\u001b[1m9/9\u001b[0m \u001b[32m━━━━━━━━━━━━━━━━━━━━\u001b[0m\u001b[37m\u001b[0m \u001b[1m0s\u001b[0m 29ms/step\n",
      "Predicción destransformada: [15.109665]\n",
      "Predicción destransformada: [28.742151]\n",
      "Predicción destransformada: [20.185112]\n",
      "Predicción destransformada: [16.61995]\n",
      "Predicción destransformada: [8.43407]\n",
      "Predicción destransformada: [7.86878]\n",
      "Predicción destransformada: [17.876253]\n",
      "Predicción destransformada: [10.756879]\n",
      "Predicción destransformada: [23.35512]\n",
      "Predicción destransformada: [14.826206]\n"
     ]
    }
   ],
   "source": [
    "# Realizar predicciones con el modelo\n",
    "y_pred = model.predict(X_test)\n",
    "\n",
    "# Desescalar las predicciones al rango original\n",
    "y_pred_original = scaler.inverse_transform(y_pred)\n",
    "\n",
    "# Mostrar las primeras 10 predicciones desescaladas\n",
    "for i in range(10):\n",
    "    print(f'Predicción destransformada: {y_pred_original[i]}')\n",
    "\n"
   ]
  },
  {
   "cell_type": "markdown",
   "metadata": {},
   "source": [
    "Finalmente, la predicción de la semana siguiente:"
   ]
  },
  {
   "cell_type": "code",
   "execution_count": 22,
   "metadata": {},
   "outputs": [
    {
     "name": "stdout",
     "output_type": "stream",
     "text": [
      "Última fecha disponible: 2024-09-09 00:00:00\n",
      "Tamaño de X_pred: (846, 4, 3)\n",
      "\u001b[1m27/27\u001b[0m \u001b[32m━━━━━━━━━━━━━━━━━━━━\u001b[0m\u001b[37m\u001b[0m \u001b[1m0s\u001b[0m 2ms/step\n",
      "                        Código del producto Semana proyectada  \\\n",
      "0  100200902                     C00598            2024-09-16   \n",
      "1  100201738                     C00598            2024-09-16   \n",
      "2  100202566                     C00598            2024-09-16   \n",
      "3  100203197                     C00598            2024-09-16   \n",
      "4  100204200                     C00598            2024-09-16   \n",
      "\n",
      "   Demanda predicha  \n",
      "0         73.791039  \n",
      "1         16.888517  \n",
      "2        452.431305  \n",
      "3         52.550499  \n",
      "4          4.165241  \n"
     ]
    }
   ],
   "source": [
    "# Paso 1: Encontrar la última semana disponible en los datos\n",
    "ultima_fecha = productos_agrupados['Fecha'].max()\n",
    "print(f\"Última fecha disponible: {ultima_fecha}\")\n",
    "\n",
    "# Paso 2: Obtener los datos correspondientes a las últimas 4 semanas para cada producto\n",
    "# Filtrar los datos para obtener solo los productos con datos en las últimas 4 semanas\n",
    "productos_ultimas_semanas = productos_agrupados[productos_agrupados['Fecha'] >= (ultima_fecha - pd.DateOffset(weeks=4))]\n",
    "\n",
    "# Paso 3: Crear secuencias de 12 semanas para predecir la siguiente semana\n",
    "def crear_secuencias_prediccion(data, window_size):\n",
    "    X = []\n",
    "    if len(data) >= window_size:\n",
    "        X.append(data[-window_size:])  # Tomar las últimas 'window_size' semanas\n",
    "    return np.array(X)\n",
    "\n",
    "# Lista para almacenar las secuencias de predicción y los códigos de producto\n",
    "X_pred_list = []\n",
    "codigos_articulos = []\n",
    "\n",
    "# Recorrer todos los productos únicos\n",
    "for codigo_producto in productos_ultimas_semanas['Código del producto'].unique():\n",
    "    producto_data = productos_ultimas_semanas[productos_ultimas_semanas['Código del producto'] == codigo_producto]\n",
    "    \n",
    "    # Tomar las columnas relevantes para el modelo: ['Demanda del producto', 'Mes', 'Categoría del producto']\n",
    "    producto_data_lstm = producto_data[['Demanda del producto', 'Mes', 'Categoría del producto']].values\n",
    "    \n",
    "    # Crear secuencias para la predicción\n",
    "    X_pred = crear_secuencias_prediccion(producto_data_lstm, window_size=4)\n",
    "    \n",
    "    # Si se pudo crear una secuencia válida, almacenarla\n",
    "    if len(X_pred) > 0:\n",
    "        X_pred_list.append(X_pred)\n",
    "        codigos_articulos.append(codigo_producto)\n",
    "\n",
    "# Concatenar todas las secuencias de predicción\n",
    "X_pred = np.concatenate(X_pred_list, axis=0)\n",
    "\n",
    "print(f\"Tamaño de X_pred: {X_pred.shape}\")\n",
    "\n",
    "# Paso 4: Predecir la demanda para la semana siguiente\n",
    "y_pred_semana_siguiente = model.predict(X_pred)\n",
    "\n",
    "# Desnormalizar las predicciones\n",
    "y_pred_semana_siguiente_rescaled = scaler.inverse_transform(y_pred_semana_siguiente)\n",
    "\n",
    "# Paso 5: Crear un DataFrame con las predicciones\n",
    "siguiente_semana = ultima_fecha + pd.DateOffset(weeks=1)  # Definir la semana siguiente\n",
    "df_predicciones = pd.DataFrame({\n",
    "    'Código del producto': codigos_articulos,\n",
    "    'Semana proyectada': siguiente_semana,\n",
    "    'Demanda predicha': y_pred_semana_siguiente_rescaled.flatten()\n",
    "})\n",
    "\n",
    "# Mostrar las primeras filas del DataFrame de predicciones\n",
    "print(df_predicciones.head())\n",
    "\n",
    "# Guardar las predicciones a un archivo CSV (opcional)\n",
    "df_predicciones.to_csv('predicciones_semana_siguiente.csv', index=False)\n"
   ]
  }
 ],
 "metadata": {
  "kernelspec": {
   "display_name": "lstm3",
   "language": "python",
   "name": "python3"
  },
  "language_info": {
   "codemirror_mode": {
    "name": "ipython",
    "version": 3
   },
   "file_extension": ".py",
   "mimetype": "text/x-python",
   "name": "python",
   "nbconvert_exporter": "python",
   "pygments_lexer": "ipython3",
   "version": "3.9.19"
  }
 },
 "nbformat": 4,
 "nbformat_minor": 2
}
